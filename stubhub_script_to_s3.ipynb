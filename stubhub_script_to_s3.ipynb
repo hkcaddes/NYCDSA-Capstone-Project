{
 "cells": [
  {
   "cell_type": "code",
   "execution_count": 3,
   "metadata": {
    "scrolled": true
   },
   "outputs": [
    {
     "name": "stdout",
     "output_type": "stream",
     "text": [
      "authentication: 200\n",
      "Got first page of events. Found 6192 total events.\n",
      "Got events 500 through 1000\n",
      "Got events 1000 through 1500\n",
      "No more events gathering... test mode!\n",
      "Got events!\n",
      "Parsing events.\n",
      "Events parsed!\n",
      "We have events!\n",
      "Getting inventory.\n",
      "    event_id  totalListings\n",
      "0    9851760              1\n",
      "1    9863815              1\n",
      "2    9891790              1\n",
      "3    9892905             20\n",
      "4  102975066            101\n",
      "Getting ticket inventory event 1 out of 3\n",
      "Getting ticket inventory event 2 out of 3\n",
      "Getting ticket inventory event 3 out of 3\n",
      "Success!\n",
      "events_df_events.csv written\n",
      "events_perf_events.csv written\n",
      "events_scores_events.csv written\n",
      "events_ticket_summary_events.csv written\n",
      "venues_df_venues.csv written\n",
      "tickets_df_tickets.csv written\n",
      "tickets_deliv_type_tickets.csv written\n",
      "tickets_deliv_method_tickets.csv written\n",
      "tickets_listing_attr_tickets.csv written\n",
      "tickets_splits_tickets.csv written\n"
     ]
    }
   ],
   "source": [
    "from io import StringIO\n",
    "import boto3\n",
    "from botocore.client import Config\n",
    "import stubhub_scraper\n",
    "import pandas as pd\n",
    "import pickle\n",
    "import importlib\n",
    "import datetime\n",
    "_ = importlib.reload(stubhub_scraper)\n",
    "\n",
    "scraper = stubhub_scraper.StubHub_Scrape(test_mode=True)\n",
    "scraper.get_tickets()\n",
    "\n",
    "s3_credentials = open('s3_credentials.txt', 'r')\n",
    "ACCESS_SECRET = s3_credentials.readlines()\n",
    "ACCESS_KEY = ACCESS_SECRET[1][20:-1]\n",
    "SECRET_KEY = ACCESS_SECRET[2][24:]\n",
    "s3_credentials.close()\n",
    "\n",
    "BUCKET_NAME = 'nycdsa.ta-am'\n",
    "\n",
    "s3 = boto3.resource(\n",
    "    's3',\n",
    "    aws_access_key_id=ACCESS_KEY,\n",
    "    aws_secret_access_key=SECRET_KEY,\n",
    "    config=Config(signature_version='s3v4')\n",
    ")\n",
    "\n",
    "today = datetime.date.today()\n",
    "\n",
    "\n",
    "######################################PUSH THIS TO S3 INSTEAD OF DUMPING LOCALLY##############################\n",
    "# Pickle json / dict format in case I want to reprocess later\n",
    "with open('events_{}'+'_'+str(today.year)+'_'+str(today.month)+'_'+str(today.day)+'.json'.format(scraper.scrape_date), 'wb') as file:\n",
    "    pickle.dump(scraper._events_raw, file)\n",
    "with open('inventory_{}.json'.format(scraper.scrape_date), 'wb') as file:\n",
    "    pickle.dump(scraper._inventory_raw, file)\n",
    "##############################################################################################################\n",
    "    \n",
    "    \n",
    "# Save dfs as CSVs\n",
    "combined_df_dict = {**scraper.events, **scraper.tickets}\n",
    "for key in combined_df_dict:\n",
    "    df = combined_df_dict[key]\n",
    "    key_splits = key.split('_')\n",
    "    schema = key_splits[0]\n",
    "    table_name = '_'.join(key_splits[1:])\n",
    "    file_name = '{}_{}_{}'+'_'+str(today.year)+'_'+str(today.month)+'_'+str(today.day)+'.csv'.format(schema, table_name, schema,\n",
    "                    table_name, scraper.scrape_date)\n",
    "    BUFFER = StringIO()\n",
    "    try:\n",
    "        df.to_csv(BUFFER, index=False)\n",
    "    except:\n",
    "        pass\n",
    "    s3.Bucket(BUCKET_NAME).put_object(Key=file_name, Body=BUFFER.getvalue())    \n",
    "    print('{} written'.format(file_name))"
   ]
  }
 ],
 "metadata": {
  "kernelspec": {
   "display_name": "Python 3",
   "language": "python",
   "name": "python3"
  },
  "language_info": {
   "codemirror_mode": {
    "name": "ipython",
    "version": 3
   },
   "file_extension": ".py",
   "mimetype": "text/x-python",
   "name": "python",
   "nbconvert_exporter": "python",
   "pygments_lexer": "ipython3",
   "version": "3.6.4"
  }
 },
 "nbformat": 4,
 "nbformat_minor": 2
}
